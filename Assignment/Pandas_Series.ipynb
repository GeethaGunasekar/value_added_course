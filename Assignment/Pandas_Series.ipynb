{
 "cells": [
  {
   "cell_type": "markdown",
   "metadata": {
    "id": "Afp3BbWr8fT3"
   },
   "source": [
    "# Pandas - Series"
   ]
  },
  {
   "cell_type": "markdown",
   "metadata": {
    "id": "Kt3xcvcM8fUI"
   },
   "source": [
    "## 1. Importing library\n",
    "Let's use the **import** statement to invoke the ***Pandas library***"
   ]
  },
  {
   "cell_type": "code",
   "execution_count": null,
   "metadata": {
    "id": "XwOxxsKj8fUL"
   },
   "outputs": [],
   "source": []
  },
  {
   "cell_type": "markdown",
   "metadata": {
    "id": "C-snodEY8fUO"
   },
   "source": [
    "## 2. Series\n",
    "It is a one dimensional array with axis label in it"
   ]
  },
  {
   "cell_type": "markdown",
   "metadata": {
    "id": "tCAb3fVY8fUQ"
   },
   "source": [
    "### 2.1 Creating a series\n",
    "We use **pandas.Series** to create series<br>\n",
    "**1. Syntax** : pandas.Series(data, index=None, dtype=None, name=None, copy=False)<br>\n",
    "**2. data** : Elements/Data to be stored in series<br>\n",
    "**3. index=** : Labeling for the data. Must be **same length** as data<br>\n",
    "**4. dtype=** (Optional) : Provide the type of data<br>\n",
    "**5. name=** (Optional) : Name for the series<br>\n",
    "**6. copy=** (Optional) : To copy input data<br>"
   ]
  },
  {
   "cell_type": "code",
   "execution_count": null,
   "metadata": {
    "id": "xauJhO4D8fUS"
   },
   "outputs": [],
   "source": []
  },
  {
   "cell_type": "markdown",
   "metadata": {
    "id": "f_1N7SME8fUV"
   },
   "source": [
    "### 2.2 Printing series"
   ]
  },
  {
   "cell_type": "code",
   "execution_count": null,
   "metadata": {
    "id": "tUASgJun8fUY",
    "outputId": "bd15aabc-8b4b-4347-f999-4c2af3d6bfb2",
    "scrolled": false
   },
   "outputs": [],
   "source": []
  },
  {
   "cell_type": "markdown",
   "metadata": {
    "id": "A5aceY358fUc"
   },
   "source": [
    "## 3. Candidate Profile in Series"
   ]
  },
  {
   "cell_type": "markdown",
   "metadata": {
    "id": "9J_7s1op8fUe"
   },
   "source": [
    "### 3.1 Creating a candidate profile in series"
   ]
  },
  {
   "cell_type": "code",
   "execution_count": null,
   "metadata": {
    "id": "KQ3xK6Rp8fUg"
   },
   "outputs": [],
   "source": [
    "\n"
   ]
  },
  {
   "cell_type": "markdown",
   "metadata": {
    "id": "5Wh_bD7q8fUi"
   },
   "source": [
    "### 3.2 Printing the Candidate Profile"
   ]
  },
  {
   "cell_type": "code",
   "execution_count": null,
   "metadata": {
    "id": "n94uENgP8fUk",
    "outputId": "e27a3d05-8e2d-4a6f-d055-ff4c25737506",
    "scrolled": true
   },
   "outputs": [],
   "source": []
  }
 ],
 "metadata": {
  "colab": {
   "name": "Pandas - Series.ipynb",
   "provenance": []
  },
  "kernelspec": {
   "display_name": "Python 3 (ipykernel)",
   "language": "python",
   "name": "python3"
  },
  "language_info": {
   "codemirror_mode": {
    "name": "ipython",
    "version": 3
   },
   "file_extension": ".py",
   "mimetype": "text/x-python",
   "name": "python",
   "nbconvert_exporter": "python",
   "pygments_lexer": "ipython3",
   "version": "3.9.7"
  }
 },
 "nbformat": 4,
 "nbformat_minor": 1
}
